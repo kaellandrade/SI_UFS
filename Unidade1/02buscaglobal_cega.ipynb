{
 "cells": [
  {
   "cell_type": "markdown",
   "metadata": {
    "collapsed": true,
    "id": "h-QpqQC1p_we"
   },
   "source": [
    "# Busca global (cega)"
   ]
  },
  {
   "cell_type": "code",
   "execution_count": 1,
   "metadata": {
    "id": "8R9EhPFep_wf",
    "scrolled": true
   },
   "outputs": [],
   "source": [
    "%matplotlib inline\n",
    "import warnings\n",
    "import networkx as nx\n",
    "import matplotlib.pyplot as plt\n",
    "from matplotlib import lines\n",
    "from collections import deque\n",
    "\n",
    "from ipywidgets import interact\n",
    "import ipywidgets as widgets\n",
    "from IPython.display import display\n",
    "import time\n",
    "warnings.filterwarnings(\"ignore\")"
   ]
  },
  {
   "cell_type": "markdown",
   "metadata": {
    "id": "m-qKkPy_p_wj"
   },
   "source": [
    "## Problema"
   ]
  },
  {
   "cell_type": "code",
   "execution_count": 2,
   "metadata": {
    "id": "j4PwzWnYp_wj"
   },
   "outputs": [],
   "source": [
    "class Problem(object):\n",
    "\n",
    "    \"\"\"The abstract class for a formal problem. You should subclass\n",
    "    this and implement the methods actions and result, and possibly\n",
    "    __init__, goal_test, and path_cost. Then you will create instances\n",
    "    of your subclass and solve them with the various search functions.\"\"\"\n",
    "\n",
    "    def __init__(self, initial, goal=None):\n",
    "        \"\"\"The constructor specifies the initial state, and possibly a goal\n",
    "        state, if there is a unique goal. Your subclass's constructor can add\n",
    "        other arguments.\"\"\"\n",
    "        self.initial = initial\n",
    "        self.goal = goal\n",
    "\n",
    "    def actions(self, state):\n",
    "        \"\"\"Return the actions that can be executed in the given\n",
    "        state. The result would typically be a list, but if there are\n",
    "        many actions, consider yielding them one at a time in an\n",
    "        iterator, rather than building them all at once.\"\"\"\n",
    "        raise NotImplementedError\n",
    "\n",
    "    def result(self, state, action):\n",
    "        \"\"\"Return the state that results from executing the given\n",
    "        action in the given state. The action must be one of\n",
    "        self.actions(state).\"\"\"\n",
    "        raise NotImplementedError\n",
    "\n",
    "    def goal_test(self, state):\n",
    "        \"\"\"Return True if the state is a goal. The default method compares the\n",
    "        state to self.goal or checks for state in self.goal if it is a\n",
    "        list, as specified in the constructor. Override this method if\n",
    "        checking against a single self.goal is not enough.\"\"\"\n",
    "        if isinstance(self.goal, list):\n",
    "            return is_in(state, self.goal)\n",
    "        else:\n",
    "            return state == self.goal\n",
    "\n",
    "    def path_cost(self, c, state1, action, state2):\n",
    "        \"\"\"Return the cost of a solution path that arrives at state2 from\n",
    "        state1 via action, assuming cost c to get up to state1. If the problem\n",
    "        is such that the path doesn't matter, this function will only look at\n",
    "        state2.  If the path does matter, it will consider c and maybe state1\n",
    "        and action. The default method costs 1 for every step in the path.\"\"\"\n",
    "        return c + 1\n",
    "\n",
    "    def value(self, state):\n",
    "        \"\"\"For optimization problems, each state has a value.  Hill-climbing\n",
    "        and related algorithms try to maximize this value.\"\"\"\n",
    "        raise NotImplementedError"
   ]
  },
  {
   "cell_type": "code",
   "execution_count": 20,
   "metadata": {
    "id": "0GrUSM9itTet"
   },
   "outputs": [
    {
     "ename": "KeyboardInterrupt",
     "evalue": "",
     "output_type": "error",
     "traceback": [
      "\u001B[0;31m---------------------------------------------------------------------------\u001B[0m",
      "\u001B[0;31mKeyboardInterrupt\u001B[0m                         Traceback (most recent call last)",
      "Cell \u001B[0;32mIn[20], line 1\u001B[0m\n\u001B[0;32m----> 1\u001B[0m \u001B[38;5;28;01mclass\u001B[39;00m \u001B[38;5;21;01mNode\u001B[39;00m:\n\u001B[1;32m      3\u001B[0m     \u001B[38;5;124;03m\"\"\"A node in a search tree. Contains a pointer to the parent (the node\u001B[39;00m\n\u001B[1;32m      4\u001B[0m \u001B[38;5;124;03m    that this is a successor of) and to the actual state for this node. Note\u001B[39;00m\n\u001B[1;32m      5\u001B[0m \u001B[38;5;124;03m    that if a state is arrived at by two paths, then there are two nodes with\u001B[39;00m\n\u001B[0;32m   (...)\u001B[0m\n\u001B[1;32m      9\u001B[0m \u001B[38;5;124;03m    an explanation of how the f and h values are handled. You will not need to\u001B[39;00m\n\u001B[1;32m     10\u001B[0m \u001B[38;5;124;03m    subclass this class.\"\"\"\u001B[39;00m\n\u001B[1;32m     12\u001B[0m     \u001B[38;5;28;01mdef\u001B[39;00m \u001B[38;5;21m__init__\u001B[39m(\u001B[38;5;28mself\u001B[39m, state, parent\u001B[38;5;241m=\u001B[39m\u001B[38;5;28;01mNone\u001B[39;00m, action\u001B[38;5;241m=\u001B[39m\u001B[38;5;28;01mNone\u001B[39;00m, path_cost\u001B[38;5;241m=\u001B[39m\u001B[38;5;241m0\u001B[39m):\n",
      "Cell \u001B[0;32mIn[20], line 12\u001B[0m, in \u001B[0;36mNode\u001B[0;34m()\u001B[0m\n\u001B[1;32m      1\u001B[0m \u001B[38;5;28;01mclass\u001B[39;00m \u001B[38;5;21;01mNode\u001B[39;00m:\n\u001B[1;32m      3\u001B[0m     \u001B[38;5;124;03m\"\"\"A node in a search tree. Contains a pointer to the parent (the node\u001B[39;00m\n\u001B[1;32m      4\u001B[0m \u001B[38;5;124;03m    that this is a successor of) and to the actual state for this node. Note\u001B[39;00m\n\u001B[1;32m      5\u001B[0m \u001B[38;5;124;03m    that if a state is arrived at by two paths, then there are two nodes with\u001B[39;00m\n\u001B[0;32m   (...)\u001B[0m\n\u001B[1;32m      9\u001B[0m \u001B[38;5;124;03m    an explanation of how the f and h values are handled. You will not need to\u001B[39;00m\n\u001B[1;32m     10\u001B[0m \u001B[38;5;124;03m    subclass this class.\"\"\"\u001B[39;00m\n\u001B[0;32m---> 12\u001B[0m     \u001B[38;5;28;01mdef\u001B[39;00m \u001B[38;5;21m__init__\u001B[39m(\u001B[38;5;28mself\u001B[39m, state, parent\u001B[38;5;241m=\u001B[39m\u001B[38;5;28;01mNone\u001B[39;00m, action\u001B[38;5;241m=\u001B[39m\u001B[38;5;28;01mNone\u001B[39;00m, path_cost\u001B[38;5;241m=\u001B[39m\u001B[38;5;241m0\u001B[39m):\n\u001B[1;32m     13\u001B[0m         \u001B[38;5;124;03m\"\"\"Create a search tree Node, derived from a parent by an action.\"\"\"\u001B[39;00m\n\u001B[1;32m     14\u001B[0m         \u001B[38;5;28mself\u001B[39m\u001B[38;5;241m.\u001B[39mstate \u001B[38;5;241m=\u001B[39m state\n",
      "Cell \u001B[0;32mIn[20], line 12\u001B[0m, in \u001B[0;36mNode\u001B[0;34m()\u001B[0m\n\u001B[1;32m      1\u001B[0m \u001B[38;5;28;01mclass\u001B[39;00m \u001B[38;5;21;01mNode\u001B[39;00m:\n\u001B[1;32m      3\u001B[0m     \u001B[38;5;124;03m\"\"\"A node in a search tree. Contains a pointer to the parent (the node\u001B[39;00m\n\u001B[1;32m      4\u001B[0m \u001B[38;5;124;03m    that this is a successor of) and to the actual state for this node. Note\u001B[39;00m\n\u001B[1;32m      5\u001B[0m \u001B[38;5;124;03m    that if a state is arrived at by two paths, then there are two nodes with\u001B[39;00m\n\u001B[0;32m   (...)\u001B[0m\n\u001B[1;32m      9\u001B[0m \u001B[38;5;124;03m    an explanation of how the f and h values are handled. You will not need to\u001B[39;00m\n\u001B[1;32m     10\u001B[0m \u001B[38;5;124;03m    subclass this class.\"\"\"\u001B[39;00m\n\u001B[0;32m---> 12\u001B[0m     \u001B[38;5;28;01mdef\u001B[39;00m \u001B[38;5;21m__init__\u001B[39m(\u001B[38;5;28mself\u001B[39m, state, parent\u001B[38;5;241m=\u001B[39m\u001B[38;5;28;01mNone\u001B[39;00m, action\u001B[38;5;241m=\u001B[39m\u001B[38;5;28;01mNone\u001B[39;00m, path_cost\u001B[38;5;241m=\u001B[39m\u001B[38;5;241m0\u001B[39m):\n\u001B[1;32m     13\u001B[0m         \u001B[38;5;124;03m\"\"\"Create a search tree Node, derived from a parent by an action.\"\"\"\u001B[39;00m\n\u001B[1;32m     14\u001B[0m         \u001B[38;5;28mself\u001B[39m\u001B[38;5;241m.\u001B[39mstate \u001B[38;5;241m=\u001B[39m state\n",
      "File \u001B[0;32m~/.local/share/JetBrains/Toolbox/apps/PyCharm-P/ch-0/223.8214.51/plugins/python/helpers/pydev/_pydevd_bundle/pydevd_frame.py:747\u001B[0m, in \u001B[0;36mPyDBFrame.trace_dispatch\u001B[0;34m(self, frame, event, arg)\u001B[0m\n\u001B[1;32m    745\u001B[0m \u001B[38;5;66;03m# if thread has a suspend flag, we suspend with a busy wait\u001B[39;00m\n\u001B[1;32m    746\u001B[0m \u001B[38;5;28;01mif\u001B[39;00m info\u001B[38;5;241m.\u001B[39mpydev_state \u001B[38;5;241m==\u001B[39m STATE_SUSPEND:\n\u001B[0;32m--> 747\u001B[0m     \u001B[38;5;28;43mself\u001B[39;49m\u001B[38;5;241;43m.\u001B[39;49m\u001B[43mdo_wait_suspend\u001B[49m\u001B[43m(\u001B[49m\u001B[43mthread\u001B[49m\u001B[43m,\u001B[49m\u001B[43m \u001B[49m\u001B[43mframe\u001B[49m\u001B[43m,\u001B[49m\u001B[43m \u001B[49m\u001B[43mevent\u001B[49m\u001B[43m,\u001B[49m\u001B[43m \u001B[49m\u001B[43marg\u001B[49m\u001B[43m)\u001B[49m\n\u001B[1;32m    748\u001B[0m     \u001B[38;5;66;03m# No need to reset frame.f_trace to keep the same trace function.\u001B[39;00m\n\u001B[1;32m    749\u001B[0m     \u001B[38;5;28;01mreturn\u001B[39;00m \u001B[38;5;28mself\u001B[39m\u001B[38;5;241m.\u001B[39mtrace_dispatch\n",
      "File \u001B[0;32m~/.local/share/JetBrains/Toolbox/apps/PyCharm-P/ch-0/223.8214.51/plugins/python/helpers/pydev/_pydevd_bundle/pydevd_frame.py:144\u001B[0m, in \u001B[0;36mPyDBFrame.do_wait_suspend\u001B[0;34m(self, *args, **kwargs)\u001B[0m\n\u001B[1;32m    143\u001B[0m \u001B[38;5;28;01mdef\u001B[39;00m \u001B[38;5;21mdo_wait_suspend\u001B[39m(\u001B[38;5;28mself\u001B[39m, \u001B[38;5;241m*\u001B[39margs, \u001B[38;5;241m*\u001B[39m\u001B[38;5;241m*\u001B[39mkwargs):\n\u001B[0;32m--> 144\u001B[0m     \u001B[38;5;28;43mself\u001B[39;49m\u001B[38;5;241;43m.\u001B[39;49m\u001B[43m_args\u001B[49m\u001B[43m[\u001B[49m\u001B[38;5;241;43m0\u001B[39;49m\u001B[43m]\u001B[49m\u001B[38;5;241;43m.\u001B[39;49m\u001B[43mdo_wait_suspend\u001B[49m\u001B[43m(\u001B[49m\u001B[38;5;241;43m*\u001B[39;49m\u001B[43margs\u001B[49m\u001B[43m,\u001B[49m\u001B[43m \u001B[49m\u001B[38;5;241;43m*\u001B[39;49m\u001B[38;5;241;43m*\u001B[39;49m\u001B[43mkwargs\u001B[49m\u001B[43m)\u001B[49m\n",
      "File \u001B[0;32m~/.local/share/JetBrains/Toolbox/apps/PyCharm-P/ch-0/223.8214.51/plugins/python/helpers/pydev/pydevd.py:1160\u001B[0m, in \u001B[0;36mPyDB.do_wait_suspend\u001B[0;34m(self, thread, frame, event, arg, send_suspend_message, is_unhandled_exception)\u001B[0m\n\u001B[1;32m   1157\u001B[0m         from_this_thread\u001B[38;5;241m.\u001B[39mappend(frame_id)\n\u001B[1;32m   1159\u001B[0m \u001B[38;5;28;01mwith\u001B[39;00m \u001B[38;5;28mself\u001B[39m\u001B[38;5;241m.\u001B[39m_threads_suspended_single_notification\u001B[38;5;241m.\u001B[39mnotify_thread_suspended(thread_id, stop_reason):\n\u001B[0;32m-> 1160\u001B[0m     \u001B[38;5;28;43mself\u001B[39;49m\u001B[38;5;241;43m.\u001B[39;49m\u001B[43m_do_wait_suspend\u001B[49m\u001B[43m(\u001B[49m\u001B[43mthread\u001B[49m\u001B[43m,\u001B[49m\u001B[43m \u001B[49m\u001B[43mframe\u001B[49m\u001B[43m,\u001B[49m\u001B[43m \u001B[49m\u001B[43mevent\u001B[49m\u001B[43m,\u001B[49m\u001B[43m \u001B[49m\u001B[43marg\u001B[49m\u001B[43m,\u001B[49m\u001B[43m \u001B[49m\u001B[43msuspend_type\u001B[49m\u001B[43m,\u001B[49m\u001B[43m \u001B[49m\u001B[43mfrom_this_thread\u001B[49m\u001B[43m)\u001B[49m\n",
      "File \u001B[0;32m~/.local/share/JetBrains/Toolbox/apps/PyCharm-P/ch-0/223.8214.51/plugins/python/helpers/pydev/pydevd.py:1175\u001B[0m, in \u001B[0;36mPyDB._do_wait_suspend\u001B[0;34m(self, thread, frame, event, arg, suspend_type, from_this_thread)\u001B[0m\n\u001B[1;32m   1172\u001B[0m             \u001B[38;5;28mself\u001B[39m\u001B[38;5;241m.\u001B[39m_call_mpl_hook()\n\u001B[1;32m   1174\u001B[0m         \u001B[38;5;28mself\u001B[39m\u001B[38;5;241m.\u001B[39mprocess_internal_commands()\n\u001B[0;32m-> 1175\u001B[0m         \u001B[43mtime\u001B[49m\u001B[38;5;241;43m.\u001B[39;49m\u001B[43msleep\u001B[49m\u001B[43m(\u001B[49m\u001B[38;5;241;43m0.01\u001B[39;49m\u001B[43m)\u001B[49m\n\u001B[1;32m   1177\u001B[0m \u001B[38;5;28mself\u001B[39m\u001B[38;5;241m.\u001B[39mcancel_async_evaluation(get_current_thread_id(thread), \u001B[38;5;28mstr\u001B[39m(\u001B[38;5;28mid\u001B[39m(frame)))\n\u001B[1;32m   1179\u001B[0m \u001B[38;5;66;03m# process any stepping instructions\u001B[39;00m\n",
      "\u001B[0;31mKeyboardInterrupt\u001B[0m: "
     ]
    }
   ],
   "source": [
    "class Node:\n",
    "\n",
    "    \"\"\"A node in a search tree. Contains a pointer to the parent (the node\n",
    "    that this is a successor of) and to the actual state for this node. Note\n",
    "    that if a state is arrived at by two paths, then there are two nodes with\n",
    "    the same state.  Also includes the action that got us to this state, and\n",
    "    the total path_cost (also known as g) to reach the node.  Other functions\n",
    "    may add an f and h value; see best_first_graph_search and astar_search for\n",
    "    an explanation of how the f and h values are handled. You will not need to\n",
    "    subclass this class.\"\"\"\n",
    "\n",
    "    def __init__(self, state, parent=None, action=None, path_cost=0):\n",
    "        \"\"\"Create a search tree Node, derived from a parent by an action.\"\"\"\n",
    "        self.state = state\n",
    "        self.parent = parent\n",
    "        self.action = action\n",
    "        self.path_cost = path_cost\n",
    "        self.depth = 0\n",
    "        if parent:\n",
    "            self.depth = parent.depth + 1\n",
    "\n",
    "    def __repr__(self):\n",
    "        return \"<Node {}>\".format(self.state)\n",
    "\n",
    "    def __lt__(self, node):\n",
    "        return self.state < node.state\n",
    "\n",
    "    def expand(self, problem):\n",
    "        \"\"\"List the nodes reachable in one step from this node.\"\"\"\n",
    "        return [self.child_node(problem, action)\n",
    "                for action in problem.actions(self.state)]\n",
    "\n",
    "    def child_node(self, problem, action):\n",
    "        \"\"\"[Figure 3.10]\"\"\"\n",
    "        next_state = problem.result(self.state, action)\n",
    "        next_node = Node(next_state, self, action,\n",
    "                    problem.path_cost(self.path_cost, self.state,\n",
    "                                      action, next_state))\n",
    "        return next_node\n",
    "    \n",
    "    def solution(self):\n",
    "        \"\"\"Return the sequence of actions to go from the root to this node.\"\"\"\n",
    "        return [node.action for node in self.path()[1:]]\n",
    "\n",
    "    def path(self):\n",
    "        \"\"\"Return a list of nodes forming the path from the root to this node.\"\"\"\n",
    "        node, path_back = self, []\n",
    "        while node:\n",
    "            path_back.append(node)\n",
    "            node = node.parent\n",
    "        return list(reversed(path_back))\n",
    "\n",
    "    # We want for a queue of nodes in breadth_first_graph_search or\n",
    "    # astar_search to have no duplicated states, so we treat nodes\n",
    "    # with the same state as equal. [Problem: this may not be what you\n",
    "    # want in other contexts.]\n",
    "\n",
    "    def __eq__(self, other):\n",
    "        return isinstance(other, Node) and self.state == other.state\n",
    "\n",
    "    def __hash__(self):\n",
    "        return hash(self.state)"
   ]
  },
  {
   "cell_type": "code",
   "execution_count": 4,
   "metadata": {
    "id": "ibE_5t0Yp_wm"
   },
   "outputs": [],
   "source": [
    "class GraphProblem(Problem):\n",
    "\n",
    "    \"\"\"The problem of searching a graph from one node to another.\"\"\"\n",
    "\n",
    "    def __init__(self, initial, goal, graph):\n",
    "        Problem.__init__(self, initial, goal)\n",
    "        self.graph = graph\n",
    "\n",
    "    def actions(self, A):\n",
    "        \"\"\"The actions at a graph node are just its neighbors.\"\"\"\n",
    "        return list(self.graph.get(A).keys())\n",
    "\n",
    "    def result(self, state, action):\n",
    "        \"\"\"The result of going to a neighbor is just that neighbor.\"\"\"\n",
    "        return action\n",
    "\n",
    "    def path_cost(self, cost_so_far, A, action, B):\n",
    "        return cost_so_far + (self.graph.get(A, B) or infinity)\n",
    "\n",
    "    def find_min_edge(self):\n",
    "        \"\"\"Find minimum value of edges.\"\"\"\n",
    "        m = infinity\n",
    "        for d in self.graph.graph_dict.values():\n",
    "            local_min = min(d.values())\n",
    "            m = min(m, local_min)\n",
    "\n",
    "        return m\n",
    "\n",
    "    def h(self, node):\n",
    "        \"\"\"h function is straight-line distance from a node's state to goal.\"\"\"\n",
    "        locs = getattr(self.graph, 'locations', None)\n",
    "        if locs:\n",
    "            if type(node) is str:\n",
    "                return int(distance(locs[node], locs[self.goal]))\n",
    "\n",
    "            return int(distance(locs[node.state], locs[self.goal]))\n",
    "        else:\n",
    "            return infinity"
   ]
  },
  {
   "cell_type": "code",
   "execution_count": 5,
   "metadata": {
    "id": "Gb2NPJWXp_wp"
   },
   "outputs": [],
   "source": [
    "class Graph:\n",
    "\n",
    "    \"\"\"A graph connects nodes (vertices) by edges (links).  Each edge can also\n",
    "    have a length associated with it.  The constructor call is something like:\n",
    "        g = Graph({'A': {'B': 1, 'C': 2})\n",
    "    this makes a graph with 3 nodes, A, B, and C, with an edge of length 1 from\n",
    "    A to B,  and an edge of length 2 from A to C.  You can also do:\n",
    "        g = Graph({'A': {'B': 1, 'C': 2}, directed=False)\n",
    "    This makes an undirected graph, so inverse links are also added. The graph\n",
    "    stays undirected; if you add more links with g.connect('B', 'C', 3), then\n",
    "    inverse link is also added.  You can use g.nodes() to get a list of nodes,\n",
    "    g.get('A') to get a dict of links out of A, and g.get('A', 'B') to get the\n",
    "    length of the link from A to B.  'Lengths' can actually be any object at\n",
    "    all, and nodes can be any hashable object.\"\"\"\n",
    "\n",
    "    def __init__(self, graph_dict=None, directed=True):\n",
    "        self.graph_dict = graph_dict or {}\n",
    "        self.directed = directed\n",
    "        if not directed:\n",
    "            self.make_undirected()\n",
    "\n",
    "    def make_undirected(self):\n",
    "        \"\"\"Make a digraph into an undirected graph by adding symmetric edges.\"\"\"\n",
    "        for a in list(self.graph_dict.keys()):\n",
    "            for (b, dist) in self.graph_dict[a].items():\n",
    "                self.connect1(b, a, dist)\n",
    "\n",
    "    def connect(self, A, B, distance=1):\n",
    "        \"\"\"Add a link from A and B of given distance, and also add the inverse\n",
    "        link if the graph is undirected.\"\"\"\n",
    "        self.connect1(A, B, distance)\n",
    "        if not self.directed:\n",
    "            self.connect1(B, A, distance)\n",
    "\n",
    "    def connect1(self, A, B, distance):\n",
    "        \"\"\"Add a link from A to B of given distance, in one direction only.\"\"\"\n",
    "        self.graph_dict.setdefault(A, {})[B] = distance\n",
    "\n",
    "    def get(self, a, b=None):\n",
    "        \"\"\"Return a link distance or a dict of {node: distance} entries.\n",
    "        .get(a,b) returns the distance or None;\n",
    "        .get(a) returns a dict of {node: distance} entries, possibly {}.\"\"\"\n",
    "        links = self.graph_dict.setdefault(a, {})\n",
    "        if b is None:\n",
    "            return links\n",
    "        else:\n",
    "            return links.get(b)\n",
    "\n",
    "    def nodes(self):\n",
    "        \"\"\"Return a list of nodes in the graph.\"\"\"\n",
    "        s1 = set([k for k in self.graph_dict.keys()])\n",
    "        s2 = set([k2 for v in self.graph_dict.values() for k2, v2 in v.items()])\n",
    "        nodes = s1.union(s2)\n",
    "        return list(nodes)"
   ]
  },
  {
   "cell_type": "code",
   "execution_count": 6,
   "metadata": {
    "id": "PiyPR-i8p_wr"
   },
   "outputs": [],
   "source": [
    "def UndirectedGraph(graph_dict=None):\n",
    "    \"\"\"Build a Graph where every edge (including future ones) goes both ways.\"\"\"\n",
    "    return Graph(graph_dict = graph_dict, directed=False)"
   ]
  },
  {
   "cell_type": "code",
   "execution_count": 7,
   "metadata": {
    "id": "GeU9huPXp_wu"
   },
   "outputs": [],
   "source": [
    "romania_map = UndirectedGraph(dict(\n",
    "    Arad=dict(Zerind=75, Sibiu=140, Timisoara=118),\n",
    "    Bucharest=dict(Urziceni=85, Pitesti=101, Giurgiu=90, Fagaras=211),\n",
    "    Craiova=dict(Drobeta=120, Rimnicu=146, Pitesti=138),\n",
    "    Drobeta=dict(Mehadia=75),\n",
    "    Eforie=dict(Hirsova=86),\n",
    "    Fagaras=dict(Sibiu=99),\n",
    "    Hirsova=dict(Urziceni=98),\n",
    "    Iasi=dict(Vaslui=92, Neamt=87),\n",
    "    Lugoj=dict(Timisoara=111, Mehadia=70),\n",
    "    Oradea=dict(Zerind=71, Sibiu=151),\n",
    "    Pitesti=dict(Rimnicu=97),\n",
    "    Rimnicu=dict(Sibiu=80),\n",
    "    Urziceni=dict(Vaslui=142)))\n",
    "\n",
    "romania_map.locations = dict(\n",
    "    Arad=(91, 492), Bucharest=(400, 327), Craiova=(253, 288),\n",
    "    Drobeta=(165, 299), Eforie=(562, 293), Fagaras=(305, 449),\n",
    "    Giurgiu=(375, 270), Hirsova=(534, 350), Iasi=(473, 506),\n",
    "    Lugoj=(165, 379), Mehadia=(168, 339), Neamt=(406, 537),\n",
    "    Oradea=(131, 571), Pitesti=(320, 368), Rimnicu=(233, 410),\n",
    "    Sibiu=(207, 457), Timisoara=(94, 410), Urziceni=(456, 350),\n",
    "    Vaslui=(509, 444), Zerind=(108, 531))"
   ]
  },
  {
   "cell_type": "code",
   "execution_count": 8,
   "metadata": {
    "id": "cEUI6m9_p_wx"
   },
   "outputs": [],
   "source": [
    "romania_problem = GraphProblem('Arad', 'Bucharest', romania_map)"
   ]
  },
  {
   "cell_type": "markdown",
   "metadata": {
    "id": "rd6ruHz-p_w0"
   },
   "source": [
    "# Visualização do mapa da Romênia"
   ]
  },
  {
   "cell_type": "code",
   "execution_count": 9,
   "metadata": {
    "colab": {
     "base_uri": "https://localhost:8080/"
    },
    "id": "EyqT5ruop_w0",
    "outputId": "31ec113c-2e82-4a0f-c8c1-a2743cdd1d88"
   },
   "outputs": [
    {
     "name": "stdout",
     "output_type": "stream",
     "text": [
      "{'Arad': (91, 492), 'Bucharest': (400, 327), 'Craiova': (253, 288), 'Drobeta': (165, 299), 'Eforie': (562, 293), 'Fagaras': (305, 449), 'Giurgiu': (375, 270), 'Hirsova': (534, 350), 'Iasi': (473, 506), 'Lugoj': (165, 379), 'Mehadia': (168, 339), 'Neamt': (406, 537), 'Oradea': (131, 571), 'Pitesti': (320, 368), 'Rimnicu': (233, 410), 'Sibiu': (207, 457), 'Timisoara': (94, 410), 'Urziceni': (456, 350), 'Vaslui': (509, 444), 'Zerind': (108, 531)}\n"
     ]
    }
   ],
   "source": [
    "romania_locations = romania_map.locations\n",
    "print(romania_locations)"
   ]
  },
  {
   "cell_type": "markdown",
   "metadata": {
    "id": "Z6mU04wUp_w3"
   },
   "source": [
    "### Módulos necessários: networkx, matplotlib e ipywidgets."
   ]
  },
  {
   "cell_type": "code",
   "execution_count": 10,
   "metadata": {
    "id": "hXcLoMlhp_w6"
   },
   "outputs": [],
   "source": [
    "# initialise a graph\n",
    "G = nx.Graph()\n",
    "\n",
    "# use this while labeling nodes in the map\n",
    "node_labels = dict()\n",
    "# use this to modify colors of nodes while exploring the graph.\n",
    "# This is the only dict we send to `show_map(node_colors)` while drawing the map\n",
    "node_colors = dict()\n",
    "\n",
    "for n, p in romania_locations.items():\n",
    "    # add nodes from romania_locations\n",
    "    G.add_node(n)\n",
    "    # add nodes to node_labels\n",
    "    node_labels[n] = n\n",
    "    # node_colors to color nodes while exploring romania map\n",
    "    node_colors[n] = \"black\"\n",
    "\n",
    "# we'll save the initial node colors to a dict to use later\n",
    "initial_node_colors = dict(node_colors)\n",
    "    \n",
    "# positions for node labels\n",
    "node_label_pos = { k:[v[0],v[1]-10]  for k,v in romania_locations.items() }\n",
    "\n",
    "# use this while labeling edges\n",
    "edge_labels = dict()\n",
    "\n",
    "# add edges between cities in romania map - UndirectedGraph defined in search.py\n",
    "for node in romania_map.nodes():\n",
    "    connections = romania_map.get(node)\n",
    "    for connection in connections.keys():\n",
    "        distance = connections[connection]\n",
    "\n",
    "        # add edges to the graph\n",
    "        G.add_edge(node, connection)\n",
    "        # add distances to edge_labels\n",
    "        edge_labels[(node, connection)] = distance"
   ]
  },
  {
   "cell_type": "code",
   "execution_count": 11,
   "metadata": {
    "id": "lxen8D7Gp_w-"
   },
   "outputs": [],
   "source": [
    "def show_map(node_colors):\n",
    "    # set the size of the plot\n",
    "    plt.figure(figsize=(18,13))\n",
    "    # draw the graph (both nodes and edges) with locations from romania_locations\n",
    "    nx.draw(G, pos = romania_locations, node_color = [node_colors[node] for node in G.nodes()])\n",
    "\n",
    "    # draw labels for nodes\n",
    "    node_label_handles = nx.draw_networkx_labels(G, pos = node_label_pos, labels = node_labels, font_size = 14)\n",
    "    # add a white bounding box behind the node labels\n",
    "    [label.set_bbox(dict(facecolor='white', edgecolor='none')) for label in node_label_handles.values()]\n",
    "\n",
    "    # add edge lables to the graph\n",
    "    nx.draw_networkx_edge_labels(G, pos = romania_locations, edge_labels=edge_labels, font_size = 14)\n",
    "    \n",
    "    # add a legend\n",
    "    white_circle = lines.Line2D([], [], color=\"black\", marker='o', markersize=15, markerfacecolor=\"black\")\n",
    "    orange_circle = lines.Line2D([], [], color=\"orange\", marker='o', markersize=15, markerfacecolor=\"orange\")\n",
    "    red_circle = lines.Line2D([], [], color=\"red\", marker='o', markersize=15, markerfacecolor=\"red\")\n",
    "    gray_circle = lines.Line2D([], [], color=\"gray\", marker='o', markersize=15, markerfacecolor=\"gray\")\n",
    "    green_circle = lines.Line2D([], [], color=\"green\", marker='o', markersize=15, markerfacecolor=\"green\")\n",
    "    plt.legend((white_circle, orange_circle, red_circle, gray_circle, green_circle),\n",
    "               ('Un-explored', 'Frontier', 'Currently Exploring', 'Explored', 'Final Solution'),\n",
    "               numpoints=1,prop={'size':16}, loc=(.8,.75))\n",
    "    \n",
    "    # show the plot. No need to use in notebooks. nx.draw will show the graph itself.\n",
    "    plt.show()"
   ]
  },
  {
   "cell_type": "markdown",
   "metadata": {
    "id": "qfvO9MThp_xD"
   },
   "source": [
    "## Algoritmos de busca\n",
    "\n",
    "Cores:\n",
    "* Un-explored nodes - <font color='black'>black</font>\n",
    "* Frontier nodes - <font color='orange'>orange</font>\n",
    "* Currently exploring node - <font color='red'>red</font>\n",
    "* Already explored nodes - <font color='gray'>gray</font>"
   ]
  },
  {
   "cell_type": "markdown",
   "metadata": {
    "id": "kRV-fsVLTCf5"
   },
   "source": [
    "### Suporte para visualização"
   ]
  },
  {
   "cell_type": "code",
   "execution_count": 12,
   "metadata": {
    "id": "yEKcmlb3p_xD"
   },
   "outputs": [],
   "source": [
    "def final_path_colors(problem, solution):\n",
    "    \"returns a node_colors dict of the final path provided the problem and solution\"\n",
    "    \n",
    "    # get initial node colors\n",
    "    final_colors = dict(initial_node_colors)\n",
    "    # color all the nodes in solution and starting node to green\n",
    "    final_colors[problem.initial] = \"green\"\n",
    "    for node in solution:\n",
    "        final_colors[node] = \"green\"  \n",
    "    return final_colors\n",
    "\n",
    "\n",
    "def display_visual(user_input, algorithm=None, problem=None):\n",
    "    if user_input == False:\n",
    "        def slider_callback(iteration):\n",
    "            # don't show graph for the first time running the cell calling this function\n",
    "            try:\n",
    "                show_map(all_node_colors[iteration])\n",
    "            except:\n",
    "                print(\"inside\")\n",
    "                pass\n",
    "        def visualize_callback(Visualize):\n",
    "            if Visualize is True:\n",
    "                button.value = False\n",
    "                \n",
    "                global all_node_colors\n",
    "                \n",
    "                iterations, all_node_colors, node = algorithm(problem)\n",
    "                solution = node.solution()\n",
    "                all_node_colors.append(final_path_colors(problem, solution))\n",
    "                \n",
    "                slider.max = len(all_node_colors) - 1\n",
    "                \n",
    "                for i in range(slider.max + 1):\n",
    "                    slider.value = i\n",
    "                     #time.sleep(.5)\n",
    "        \n",
    "        slider = widgets.IntSlider(min=0, max=1, step=1, value=0)\n",
    "        slider_visual = widgets.interactive(slider_callback, iteration = slider)\n",
    "        display(slider_visual)\n",
    "\n",
    "        button = widgets.ToggleButton(value = False)\n",
    "        button_visual = widgets.interactive(visualize_callback, Visualize = button)\n",
    "        display(button_visual)\n",
    "    \n",
    "    if user_input == True:\n",
    "        node_colors = dict(initial_node_colors)\n",
    "        if algorithm == None:\n",
    "            algorithms = {\"Breadth First Tree Search\": breadth_first_tree_search}\n",
    "            algo_dropdown = widgets.Dropdown(description = \"Search algorithm: \",\n",
    "                                             options = sorted(list(algorithms.keys())),\n",
    "                                             value = \"Breadth First Tree Search\")\n",
    "            display(algo_dropdown)\n",
    "        \n",
    "        def slider_callback(iteration):\n",
    "            # don't show graph for the first time running the cell calling this function\n",
    "            try:\n",
    "                show_map(all_node_colors[iteration])\n",
    "            except:\n",
    "                pass\n",
    "            \n",
    "        def visualize_callback(Visualize):\n",
    "            if Visualize is True:\n",
    "                button.value = False\n",
    "                \n",
    "                problem = GraphProblem(start_dropdown.value, end_dropdown.value, romania_map)\n",
    "                global all_node_colors\n",
    "                \n",
    "                if algorithm == None:\n",
    "                    user_algorithm = algorithms[algo_dropdown.value]\n",
    "                \n",
    "                print(user_algorithm)\n",
    "                print(problem)\n",
    "                \n",
    "                iterations, all_node_colors, node = user_algorithm(problem)\n",
    "                solution = node.solution()\n",
    "                all_node_colors.append(final_path_colors(problem, solution))\n",
    "\n",
    "                slider.max = len(all_node_colors) - 1\n",
    "                \n",
    "                for i in range(slider.max + 1):\n",
    "                    slider.value = i\n",
    "#                    time.sleep(.5)\n",
    "                         \n",
    "        start_dropdown = widgets.Dropdown(description = \"Start city: \",\n",
    "                                          options = sorted(list(node_colors.keys())), value = \"Arad\")\n",
    "        display(start_dropdown)\n",
    "\n",
    "        end_dropdown = widgets.Dropdown(description = \"Goal city: \",\n",
    "                                        options = sorted(list(node_colors.keys())), value = \"Fagaras\")\n",
    "        display(end_dropdown)\n",
    "        \n",
    "        button = widgets.ToggleButton(value = False)\n",
    "        button_visual = widgets.interactive(visualize_callback, Visualize = button)\n",
    "        display(button_visual)\n",
    "        \n",
    "        slider = widgets.IntSlider(min=0, max=1, step=1, value=0)\n",
    "        slider_visual = widgets.interactive(slider_callback, iteration = slider)\n",
    "        display(slider_visual)"
   ]
  },
  {
   "cell_type": "markdown",
   "metadata": {
    "id": "3uv9LaymSw6U"
   },
   "source": [
    "## Busca em árvore (abstrata)"
   ]
  },
  {
   "cell_type": "code",
   "execution_count": 13,
   "metadata": {
    "id": "C9wzwHYeSvYU"
   },
   "outputs": [],
   "source": [
    "def tree_search(problem, frontier):\n",
    "    \"\"\"Search through the successors of a problem to find a goal.\n",
    "    The argument frontier should be an empty queue.\n",
    "    Don't worry about repeated paths to a state. [Figure 3.7]\"\"\"\n",
    "    \n",
    "    # we use these two variables at the time of visualisations\n",
    "    iterations = 0\n",
    "    all_node_colors = []\n",
    "    node_colors = dict(initial_node_colors)\n",
    "    \n",
    "    #Adding first node to the queue\n",
    "    frontier.append(Node(problem.initial))\n",
    "    \n",
    "    node_colors[Node(problem.initial).state] = \"orange\"\n",
    "    iterations += 1\n",
    "    all_node_colors.append(dict(node_colors))\n",
    "    \n",
    "    while frontier:\n",
    "        #Popping first node of queue\n",
    "        node = frontier.popleft()\n",
    "        \n",
    "        # modify the currently searching node to red\n",
    "        node_colors[node.state] = \"red\"\n",
    "        iterations += 1\n",
    "        all_node_colors.append(dict(node_colors))\n",
    "        \n",
    "        if problem.goal_test(node.state):\n",
    "            # modify goal node to green after reaching the goal\n",
    "            node_colors[node.state] = \"green\"\n",
    "            iterations += 1\n",
    "            all_node_colors.append(dict(node_colors))\n",
    "            return(iterations, all_node_colors, node)\n",
    "        \n",
    "        frontier.extend(node.expand(problem))\n",
    "           \n",
    "        for n in node.expand(problem):\n",
    "            node_colors[n.state] = \"orange\"\n",
    "            iterations += 1\n",
    "            all_node_colors.append(dict(node_colors))\n",
    "\n",
    "        # modify the color of explored nodes to gray\n",
    "        node_colors[node.state] = \"gray\"\n",
    "        iterations += 1\n",
    "        all_node_colors.append(dict(node_colors))\n",
    "        \n",
    "    return None"
   ]
  },
  {
   "cell_type": "markdown",
   "metadata": {
    "id": "PI2CqRhkp_xG"
   },
   "source": [
    "## Breadth-First Search (BFS) - Busca cega em largura"
   ]
  },
  {
   "cell_type": "code",
   "execution_count": 17,
   "metadata": {
    "id": "wvrPuL4Sp_xG"
   },
   "outputs": [],
   "source": [
    "def tree_breadth_search_for_vis(problem):\n",
    "    \"\"\"Search through the successors of a problem to find a goal.\n",
    "    The argument frontier should be an empty queue.\n",
    "    Don't worry about repeated paths to a state. [Figure 3.7]\"\"\"\n",
    "    \n",
    "    # we use these two variables at the time of visualisations\n",
    "    iterations = 0\n",
    "    all_node_colors = []\n",
    "    node_colors = {k : 'white' for k in problem.graph.nodes()}\n",
    "    \n",
    "    #Adding first node to the queue\n",
    "    frontier = deque([Node(problem.initial)])\n",
    "    \n",
    "    node_colors[Node(problem.initial).state] = \"orange\"\n",
    "    iterations += 1\n",
    "    all_node_colors.append(dict(node_colors))\n",
    "    \n",
    "    while frontier:\n",
    "        #Popping first node of queue\n",
    "        node = frontier.popleft()\n",
    "        \n",
    "        # modify the currently searching node to red\n",
    "        node_colors[node.state] = \"red\"\n",
    "        iterations += 1\n",
    "        all_node_colors.append(dict(node_colors))\n",
    "        \n",
    "        if problem.goal_test(node.state):\n",
    "            # modify goal node to green after reaching the goal\n",
    "            node_colors[node.state] = \"green\"\n",
    "            iterations += 1\n",
    "            all_node_colors.append(dict(node_colors))\n",
    "            return(iterations, all_node_colors, node)\n",
    "        \n",
    "        frontier.extend(node.expand(problem))\n",
    "        # nodes_can_be_frontier = node.expand(problem)\n",
    "        for n in node.expand(problem):\n",
    "            node_colors[n.state] = \"orange\"\n",
    "            iterations += 1\n",
    "            all_node_colors.append(dict(node_colors))\n",
    "\n",
    "        # modify the color of explored nodes to gray\n",
    "        node_colors[node.state] = \"gray\"\n",
    "        iterations += 1\n",
    "        all_node_colors.append(dict(node_colors))\n",
    "        \n",
    "    return None\n",
    "\n",
    "def breadth_first_tree_search(problem):\n",
    "    \"Search the shallowest nodes in the search tree first.\"\n",
    "    iterations, all_node_colors, node = tree_breadth_search_for_vis(problem)\n",
    "    return(iterations, all_node_colors, node)"
   ]
  },
  {
   "cell_type": "code",
   "execution_count": 22,
   "outputs": [
    {
     "data": {
      "text/plain": "interactive(children=(IntSlider(value=0, description='iteration', max=1), Output()), _dom_classes=('widget-int…",
      "application/vnd.jupyter.widget-view+json": {
       "version_major": 2,
       "version_minor": 0,
       "model_id": "0343585be0174cdabd294d1cc2e19295"
      }
     },
     "metadata": {},
     "output_type": "display_data"
    },
    {
     "data": {
      "text/plain": "interactive(children=(ToggleButton(value=False, description='Visualize'), Output()), _dom_classes=('widget-int…",
      "application/vnd.jupyter.widget-view+json": {
       "version_major": 2,
       "version_minor": 0,
       "model_id": "903aba27dea34706b3bf77b917a2cd31"
      }
     },
     "metadata": {},
     "output_type": "display_data"
    }
   ],
   "source": [
    "all_node_colors = []\n",
    "romania_problem = GraphProblem('Arad', 'Bucharest', romania_map)\n",
    "display_visual(user_input=False,\n",
    "               algorithm=breadth_first_tree_search,\n",
    "               problem=romania_problem)\n",
    "breadth_first_tree_search(romania_problem);"
   ],
   "metadata": {
    "collapsed": false
   }
  },
  {
   "cell_type": "code",
   "execution_count": 15,
   "outputs": [],
   "source": [],
   "metadata": {
    "collapsed": false
   }
  }
 ],
 "metadata": {
  "colab": {
   "collapsed_sections": [],
   "name": "02warmupIA.ipynb",
   "provenance": []
  },
  "kernelspec": {
   "display_name": "Python 3 (ipykernel)",
   "language": "python",
   "name": "python3"
  },
  "language_info": {
   "codemirror_mode": {
    "name": "ipython",
    "version": 3
   },
   "file_extension": ".py",
   "mimetype": "text/x-python",
   "name": "python",
   "nbconvert_exporter": "python",
   "pygments_lexer": "ipython3",
   "version": "3.10.6"
  },
  "vscode": {
   "interpreter": {
    "hash": "31f2aee4e71d21fbe5cf8b01ff0e069b9275f58929596ceb00d14d90e3e16cd6"
   }
  },
  "widgets": {
   "application/vnd.jupyter.widget-state+json": {
    "44c2cddff22e40e5be0355e67fad5bf6": {
     "model_module": "@jupyter-widgets/base",
     "model_name": "LayoutModel",
     "state": {
      "_model_module": "@jupyter-widgets/base",
      "_model_module_version": "1.2.0",
      "_model_name": "LayoutModel",
      "_view_count": null,
      "_view_module": "@jupyter-widgets/base",
      "_view_module_version": "1.2.0",
      "_view_name": "LayoutView",
      "align_content": null,
      "align_items": null,
      "align_self": null,
      "border": null,
      "bottom": null,
      "display": null,
      "flex": null,
      "flex_flow": null,
      "grid_area": null,
      "grid_auto_columns": null,
      "grid_auto_flow": null,
      "grid_auto_rows": null,
      "grid_column": null,
      "grid_gap": null,
      "grid_row": null,
      "grid_template_areas": null,
      "grid_template_columns": null,
      "grid_template_rows": null,
      "height": null,
      "justify_content": null,
      "justify_items": null,
      "left": null,
      "margin": null,
      "max_height": null,
      "max_width": null,
      "min_height": null,
      "min_width": null,
      "object_fit": null,
      "object_position": null,
      "order": null,
      "overflow": null,
      "overflow_x": null,
      "overflow_y": null,
      "padding": null,
      "right": null,
      "top": null,
      "visibility": null,
      "width": null
     }
    },
    "4cfeb66fa6de40c6983ac334cc965f54": {
     "model_module": "@jupyter-widgets/base",
     "model_name": "LayoutModel",
     "state": {
      "_model_module": "@jupyter-widgets/base",
      "_model_module_version": "1.2.0",
      "_model_name": "LayoutModel",
      "_view_count": null,
      "_view_module": "@jupyter-widgets/base",
      "_view_module_version": "1.2.0",
      "_view_name": "LayoutView",
      "align_content": null,
      "align_items": null,
      "align_self": null,
      "border": null,
      "bottom": null,
      "display": null,
      "flex": null,
      "flex_flow": null,
      "grid_area": null,
      "grid_auto_columns": null,
      "grid_auto_flow": null,
      "grid_auto_rows": null,
      "grid_column": null,
      "grid_gap": null,
      "grid_row": null,
      "grid_template_areas": null,
      "grid_template_columns": null,
      "grid_template_rows": null,
      "height": null,
      "justify_content": null,
      "justify_items": null,
      "left": null,
      "margin": null,
      "max_height": null,
      "max_width": null,
      "min_height": null,
      "min_width": null,
      "object_fit": null,
      "object_position": null,
      "order": null,
      "overflow": null,
      "overflow_x": null,
      "overflow_y": null,
      "padding": null,
      "right": null,
      "top": null,
      "visibility": null,
      "width": null
     }
    },
    "4d24e203d22c4cf585e16bdfdf041a27": {
     "model_module": "@jupyter-widgets/base",
     "model_name": "LayoutModel",
     "state": {
      "_model_module": "@jupyter-widgets/base",
      "_model_module_version": "1.2.0",
      "_model_name": "LayoutModel",
      "_view_count": null,
      "_view_module": "@jupyter-widgets/base",
      "_view_module_version": "1.2.0",
      "_view_name": "LayoutView",
      "align_content": null,
      "align_items": null,
      "align_self": null,
      "border": null,
      "bottom": null,
      "display": null,
      "flex": null,
      "flex_flow": null,
      "grid_area": null,
      "grid_auto_columns": null,
      "grid_auto_flow": null,
      "grid_auto_rows": null,
      "grid_column": null,
      "grid_gap": null,
      "grid_row": null,
      "grid_template_areas": null,
      "grid_template_columns": null,
      "grid_template_rows": null,
      "height": null,
      "justify_content": null,
      "justify_items": null,
      "left": null,
      "margin": null,
      "max_height": null,
      "max_width": null,
      "min_height": null,
      "min_width": null,
      "object_fit": null,
      "object_position": null,
      "order": null,
      "overflow": null,
      "overflow_x": null,
      "overflow_y": null,
      "padding": null,
      "right": null,
      "top": null,
      "visibility": null,
      "width": null
     }
    },
    "50bd9c600646486b96ad4c1116b53fe8": {
     "model_module": "@jupyter-widgets/base",
     "model_name": "LayoutModel",
     "state": {
      "_model_module": "@jupyter-widgets/base",
      "_model_module_version": "1.2.0",
      "_model_name": "LayoutModel",
      "_view_count": null,
      "_view_module": "@jupyter-widgets/base",
      "_view_module_version": "1.2.0",
      "_view_name": "LayoutView",
      "align_content": null,
      "align_items": null,
      "align_self": null,
      "border": null,
      "bottom": null,
      "display": null,
      "flex": null,
      "flex_flow": null,
      "grid_area": null,
      "grid_auto_columns": null,
      "grid_auto_flow": null,
      "grid_auto_rows": null,
      "grid_column": null,
      "grid_gap": null,
      "grid_row": null,
      "grid_template_areas": null,
      "grid_template_columns": null,
      "grid_template_rows": null,
      "height": null,
      "justify_content": null,
      "justify_items": null,
      "left": null,
      "margin": null,
      "max_height": null,
      "max_width": null,
      "min_height": null,
      "min_width": null,
      "object_fit": null,
      "object_position": null,
      "order": null,
      "overflow": null,
      "overflow_x": null,
      "overflow_y": null,
      "padding": null,
      "right": null,
      "top": null,
      "visibility": null,
      "width": null
     }
    },
    "551a8ec5240a4b8a9617caf0dfebe98e": {
     "model_module": "@jupyter-widgets/controls",
     "model_name": "VBoxModel",
     "state": {
      "_dom_classes": [
       "widget-interact"
      ],
      "_model_module": "@jupyter-widgets/controls",
      "_model_module_version": "1.5.0",
      "_model_name": "VBoxModel",
      "_view_count": null,
      "_view_module": "@jupyter-widgets/controls",
      "_view_module_version": "1.5.0",
      "_view_name": "VBoxView",
      "box_style": "",
      "children": [
       "IPY_MODEL_f2ae1b6e21474313929a9c93d5dafc32",
       "IPY_MODEL_ac17cec04d8f45579faf0bfef8121556"
      ],
      "layout": "IPY_MODEL_dc5e692089c04b7ca6607e0de506466a"
     }
    },
    "5be1af49775147d5b343346dbf5824d2": {
     "model_module": "@jupyter-widgets/output",
     "model_name": "OutputModel",
     "state": {
      "_dom_classes": [],
      "_model_module": "@jupyter-widgets/output",
      "_model_module_version": "1.0.0",
      "_model_name": "OutputModel",
      "_view_count": null,
      "_view_module": "@jupyter-widgets/output",
      "_view_module_version": "1.0.0",
      "_view_name": "OutputView",
      "layout": "IPY_MODEL_4cfeb66fa6de40c6983ac334cc965f54",
      "msg_id": "",
      "outputs": []
     }
    },
    "73770705a80142e6b1efb080f649f690": {
     "model_module": "@jupyter-widgets/controls",
     "model_name": "SliderStyleModel",
     "state": {
      "_model_module": "@jupyter-widgets/controls",
      "_model_module_version": "1.5.0",
      "_model_name": "SliderStyleModel",
      "_view_count": null,
      "_view_module": "@jupyter-widgets/base",
      "_view_module_version": "1.2.0",
      "_view_name": "StyleView",
      "description_width": "",
      "handle_color": null
     }
    },
    "79aefd1d895740ff890b352befcefbcd": {
     "model_module": "@jupyter-widgets/controls",
     "model_name": "ToggleButtonModel",
     "state": {
      "_dom_classes": [],
      "_model_module": "@jupyter-widgets/controls",
      "_model_module_version": "1.5.0",
      "_model_name": "ToggleButtonModel",
      "_view_count": null,
      "_view_module": "@jupyter-widgets/controls",
      "_view_module_version": "1.5.0",
      "_view_name": "ToggleButtonView",
      "button_style": "",
      "description": "Visualize",
      "description_tooltip": null,
      "disabled": false,
      "icon": "",
      "layout": "IPY_MODEL_50bd9c600646486b96ad4c1116b53fe8",
      "style": "IPY_MODEL_ffd19be5769e48b7a6e02c6ed9145d9c",
      "tooltip": "",
      "value": false
     }
    },
    "8cdb1556b6294e50987aae81eccc1979": {
     "model_module": "@jupyter-widgets/base",
     "model_name": "LayoutModel",
     "state": {
      "_model_module": "@jupyter-widgets/base",
      "_model_module_version": "1.2.0",
      "_model_name": "LayoutModel",
      "_view_count": null,
      "_view_module": "@jupyter-widgets/base",
      "_view_module_version": "1.2.0",
      "_view_name": "LayoutView",
      "align_content": null,
      "align_items": null,
      "align_self": null,
      "border": null,
      "bottom": null,
      "display": null,
      "flex": null,
      "flex_flow": null,
      "grid_area": null,
      "grid_auto_columns": null,
      "grid_auto_flow": null,
      "grid_auto_rows": null,
      "grid_column": null,
      "grid_gap": null,
      "grid_row": null,
      "grid_template_areas": null,
      "grid_template_columns": null,
      "grid_template_rows": null,
      "height": null,
      "justify_content": null,
      "justify_items": null,
      "left": null,
      "margin": null,
      "max_height": null,
      "max_width": null,
      "min_height": null,
      "min_width": null,
      "object_fit": null,
      "object_position": null,
      "order": null,
      "overflow": null,
      "overflow_x": null,
      "overflow_y": null,
      "padding": null,
      "right": null,
      "top": null,
      "visibility": null,
      "width": null
     }
    },
    "ac17cec04d8f45579faf0bfef8121556": {
     "model_module": "@jupyter-widgets/output",
     "model_name": "OutputModel",
     "state": {
      "_dom_classes": [],
      "_model_module": "@jupyter-widgets/output",
      "_model_module_version": "1.0.0",
      "_model_name": "OutputModel",
      "_view_count": null,
      "_view_module": "@jupyter-widgets/output",
      "_view_module_version": "1.0.0",
      "_view_name": "OutputView",
      "layout": "IPY_MODEL_8cdb1556b6294e50987aae81eccc1979",
      "msg_id": "",
      "outputs": [
       {
        "image/png": "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\n",
        "metadata": {
         "tags": []
        },
        "output_type": "display_data",
        "text/plain": "<Figure size 1296x936 with 1 Axes>"
       }
      ]
     }
    },
    "b91805a81c3f4fb7bb231d6d7b004249": {
     "model_module": "@jupyter-widgets/controls",
     "model_name": "VBoxModel",
     "state": {
      "_dom_classes": [
       "widget-interact"
      ],
      "_model_module": "@jupyter-widgets/controls",
      "_model_module_version": "1.5.0",
      "_model_name": "VBoxModel",
      "_view_count": null,
      "_view_module": "@jupyter-widgets/controls",
      "_view_module_version": "1.5.0",
      "_view_name": "VBoxView",
      "box_style": "",
      "children": [
       "IPY_MODEL_79aefd1d895740ff890b352befcefbcd",
       "IPY_MODEL_5be1af49775147d5b343346dbf5824d2"
      ],
      "layout": "IPY_MODEL_4d24e203d22c4cf585e16bdfdf041a27"
     }
    },
    "dc5e692089c04b7ca6607e0de506466a": {
     "model_module": "@jupyter-widgets/base",
     "model_name": "LayoutModel",
     "state": {
      "_model_module": "@jupyter-widgets/base",
      "_model_module_version": "1.2.0",
      "_model_name": "LayoutModel",
      "_view_count": null,
      "_view_module": "@jupyter-widgets/base",
      "_view_module_version": "1.2.0",
      "_view_name": "LayoutView",
      "align_content": null,
      "align_items": null,
      "align_self": null,
      "border": null,
      "bottom": null,
      "display": null,
      "flex": null,
      "flex_flow": null,
      "grid_area": null,
      "grid_auto_columns": null,
      "grid_auto_flow": null,
      "grid_auto_rows": null,
      "grid_column": null,
      "grid_gap": null,
      "grid_row": null,
      "grid_template_areas": null,
      "grid_template_columns": null,
      "grid_template_rows": null,
      "height": null,
      "justify_content": null,
      "justify_items": null,
      "left": null,
      "margin": null,
      "max_height": null,
      "max_width": null,
      "min_height": null,
      "min_width": null,
      "object_fit": null,
      "object_position": null,
      "order": null,
      "overflow": null,
      "overflow_x": null,
      "overflow_y": null,
      "padding": null,
      "right": null,
      "top": null,
      "visibility": null,
      "width": null
     }
    },
    "f2ae1b6e21474313929a9c93d5dafc32": {
     "model_module": "@jupyter-widgets/controls",
     "model_name": "IntSliderModel",
     "state": {
      "_dom_classes": [],
      "_model_module": "@jupyter-widgets/controls",
      "_model_module_version": "1.5.0",
      "_model_name": "IntSliderModel",
      "_view_count": null,
      "_view_module": "@jupyter-widgets/controls",
      "_view_module_version": "1.5.0",
      "_view_name": "IntSliderView",
      "continuous_update": true,
      "description": "iteration",
      "description_tooltip": null,
      "disabled": false,
      "layout": "IPY_MODEL_44c2cddff22e40e5be0355e67fad5bf6",
      "max": 102,
      "min": 0,
      "orientation": "horizontal",
      "readout": true,
      "readout_format": "d",
      "step": 1,
      "style": "IPY_MODEL_73770705a80142e6b1efb080f649f690",
      "value": 102
     }
    },
    "ffd19be5769e48b7a6e02c6ed9145d9c": {
     "model_module": "@jupyter-widgets/controls",
     "model_name": "DescriptionStyleModel",
     "state": {
      "_model_module": "@jupyter-widgets/controls",
      "_model_module_version": "1.5.0",
      "_model_name": "DescriptionStyleModel",
      "_view_count": null,
      "_view_module": "@jupyter-widgets/base",
      "_view_module_version": "1.2.0",
      "_view_name": "StyleView",
      "description_width": ""
     }
    }
   }
  }
 },
 "nbformat": 4,
 "nbformat_minor": 1
}
